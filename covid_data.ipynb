{
 "cells": [
  {
   "cell_type": "code",
   "execution_count": 1,
   "id": "d30637d5",
   "metadata": {},
   "outputs": [],
   "source": [
    "#! pip install geopandas -t /Users/mio/.pyenv/versions/3.10.3/lib/python3.10/site-packages\n",
    "#! pip install folium -t /Users/mio/.pyenv/versions/3.10.3/lib/python3.10/site-packages\n",
    "#! pip install seaborn -t /Users/mio/.pyenv/versions/3.10.3/lib/python3.10/site-packages"
   ]
  },
  {
   "cell_type": "code",
   "execution_count": 2,
   "id": "3fb28b32",
   "metadata": {},
   "outputs": [],
   "source": [
    "#import geopandas as gpd\n",
    "\n",
    "#fp = \"/Users/mio/Google Drive/japan_ver84/japan_ver84.shp\"\n",
    "#data = gpd.read_file(fp)"
   ]
  },
  {
   "cell_type": "code",
   "execution_count": 3,
   "id": "bf03baea",
   "metadata": {},
   "outputs": [],
   "source": [
    "import folium\n",
    "import geopandas as gpd\n",
    "import requests\n",
    "import pandas as pd"
   ]
  },
  {
   "cell_type": "code",
   "execution_count": 4,
   "id": "1e59573e",
   "metadata": {},
   "outputs": [],
   "source": [
    "geojson = 'https://raw.githubusercontent.com/johan/world.geo.json/master/countries.geo.json'"
   ]
  },
  {
   "cell_type": "code",
   "execution_count": 5,
   "id": "27852e1a",
   "metadata": {},
   "outputs": [],
   "source": [
    "gdf = gpd.read_file('https://raw.githubusercontent.com/johan/world.geo.json/master/countries.geo.json')"
   ]
  },
  {
   "cell_type": "markdown",
   "id": "b2c07f1f",
   "metadata": {},
   "source": [
    "JHU covid data"
   ]
  },
  {
   "cell_type": "code",
   "execution_count": 6,
   "id": "178bed3c",
   "metadata": {},
   "outputs": [],
   "source": [
    "#import JHU covid data\n",
    "df =  pd.read_csv('https://raw.githubusercontent.com/CSSEGISandData/COVID-19/master/csse_covid_19_data/csse_covid_19_time_series/time_series_covid19_confirmed_global.csv')"
   ]
  },
  {
   "cell_type": "code",
   "execution_count": 7,
   "id": "f5ada7b7",
   "metadata": {},
   "outputs": [],
   "source": [
    "df = df.groupby('Country/Region').sum().drop(['Lat','Long'], axis=1)"
   ]
  },
  {
   "cell_type": "code",
   "execution_count": 8,
   "id": "6b58587d",
   "metadata": {},
   "outputs": [],
   "source": [
    "#daily new cases\n",
    "newcases = df.ffill(axis=1).diff(axis=1)\n",
    "#7day moving average of new cases\n",
    "newcases_rolling = newcases.T.rolling(7).mean().iloc[-1].rename('newcases_7dma').rename_axis('country').reset_index()"
   ]
  },
  {
   "cell_type": "code",
   "execution_count": 9,
   "id": "9e5aaa54",
   "metadata": {},
   "outputs": [],
   "source": [
    "#add ISO codes and population\n",
    "#meta data\n",
    "countries = pd.read_csv('https://raw.githubusercontent.com/miotomita/meta/main/countries_meta.csv')\n",
    "\n",
    "#add to dataframe\n",
    "newcases_rolling['id'] = newcases_rolling.country.map(countries.set_index('name_JHU').code_3digit.to_dict())\n",
    "newcases_rolling['population'] = newcases_rolling.country.map(countries.set_index('name_JHU').population_agg.to_dict()).astype(float)\n",
    "\n",
    "#calculate per capita numbers\n",
    "newcases_rolling['newcases_per_million'] = round(newcases_rolling.newcases_7dma / newcases_rolling.population *1000000, 1)\n",
    "\n",
    "#drop na rows\n",
    "newcases_rolling = newcases_rolling[['id','country','newcases_7dma','newcases_per_million']].dropna(how='any')"
   ]
  },
  {
   "cell_type": "code",
   "execution_count": 10,
   "id": "e72034ab",
   "metadata": {},
   "outputs": [],
   "source": [
    "source = gdf.merge(newcases_rolling,on=\"id\",how='left')"
   ]
  },
  {
   "cell_type": "code",
   "execution_count": 11,
   "id": "de15f80b",
   "metadata": {},
   "outputs": [
    {
     "data": {
      "text/plain": [
       "1200"
      ]
     },
     "execution_count": 11,
     "metadata": {},
     "output_type": "execute_result"
    }
   ],
   "source": [
    "max_number = source.newcases_per_million.quantile(0.95)\n",
    "max_number = int(round((max_number)/100,0)*100)\n",
    "max_number"
   ]
  },
  {
   "cell_type": "code",
   "execution_count": 12,
   "id": "d1859d5b",
   "metadata": {},
   "outputs": [],
   "source": [
    "source.newcases_per_million = source.newcases_per_million.clip(0, max_number)"
   ]
  },
  {
   "cell_type": "code",
   "execution_count": 14,
   "id": "147ade8e",
   "metadata": {
    "scrolled": true
   },
   "outputs": [],
   "source": [
    "worldmap = folium.Map(\n",
    "    location=[10, 0], \n",
    "    zoom_start=1.45,\n",
    "    zoom_control=True,\n",
    "    scrollWheelZoom=False,\n",
    "    dragging=False\n",
    ")\n",
    "\n",
    "folium.Choropleth(\n",
    "    geo_data=geojson,\n",
    "    name='choropleth',\n",
    "    data=source,\n",
    "    nan_fill_color='lightgrey',\n",
    "    columns=['id', 'newcases_per_million'],\n",
    "    key_on='feature.id',\n",
    "    fill_color='OrRd',\n",
    "    fill_opacity=0.7, \n",
    "    line_opacity=0.1,\n",
    "    legend_name='Daily new cases per million',\n",
    "    tooltip=folium.features.GeoJsonTooltip(\n",
    "        fields=['name', 'newcases_per_million'],\n",
    "        labels=True,\n",
    "        sticky=True\n",
    "    ),\n",
    "    overlay=False\n",
    ").add_to(worldmap)\n",
    "\n",
    "worldmap.save(\"world_covid_map.html\")\n",
    "worldmap.save(\"world_covid_map.png\")"
   ]
  }
 ],
 "metadata": {
  "kernelspec": {
   "display_name": "venv310",
   "language": "python",
   "name": "venv310"
  },
  "language_info": {
   "codemirror_mode": {
    "name": "ipython",
    "version": 3
   },
   "file_extension": ".py",
   "mimetype": "text/x-python",
   "name": "python",
   "nbconvert_exporter": "python",
   "pygments_lexer": "ipython3",
   "version": "3.10.3"
  },
  "toc": {
   "base_numbering": 1,
   "nav_menu": {},
   "number_sections": true,
   "sideBar": true,
   "skip_h1_title": false,
   "title_cell": "Table of Contents",
   "title_sidebar": "Contents",
   "toc_cell": false,
   "toc_position": {},
   "toc_section_display": true,
   "toc_window_display": true
  }
 },
 "nbformat": 4,
 "nbformat_minor": 5
}
